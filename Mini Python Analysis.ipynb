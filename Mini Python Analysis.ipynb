{
  "nbformat": 4,
  "nbformat_minor": 0,
  "metadata": {
    "colab": {
      "name": "HealthPython.ipynb",
      "provenance": [],
      "authorship_tag": "ABX9TyPsFMbsMrkeobr4b7tGKukG"
    },
    "kernelspec": {
      "name": "python3",
      "display_name": "Python 3"
    },
    "language_info": {
      "name": "python"
    }
  },
  "cells": [
    {
      "cell_type": "markdown",
      "source": [
        "Exploring Healthcare Dataset on Python"
      ],
      "metadata": {
        "id": "SuE3pzjSSEqJ"
      }
    },
    {
      "cell_type": "code",
      "source": [
        "#Importing pandas\n",
        "import pandas as pd"
      ],
      "metadata": {
        "id": "lfYDdZe7O-5T"
      },
      "execution_count": 2,
      "outputs": []
    },
    {
      "cell_type": "code",
      "source": [
        "#Uploading my dataset csv file\n",
        "health = pd.read_csv(\"/content/health.csv\")"
      ],
      "metadata": {
        "id": "80yKamipPMlb"
      },
      "execution_count": 6,
      "outputs": []
    },
    {
      "cell_type": "code",
      "source": [
        "#to view my dataset\n",
        "health"
      ],
      "metadata": {
        "id": "MW8YdsT1Pbb4"
      },
      "execution_count": null,
      "outputs": []
    },
    {
      "cell_type": "code",
      "source": [
        "#To get summary about my dataset. \n",
        "#Total count = 2938, Max life_expectancy = 89, Min life_expectancy = 36.3\n",
        "health.describe()"
      ],
      "metadata": {
        "id": "X0ZlLtOFPfQu"
      },
      "execution_count": null,
      "outputs": []
    },
    {
      "cell_type": "markdown",
      "source": [
        "Filtering on Pandas"
      ],
      "metadata": {
        "id": "fH_L-clAsJeh"
      }
    },
    {
      "cell_type": "code",
      "source": [
        "#From the dataset summary,from the overall dataset, we see the max life expectancy is 89.\n",
        "#I would want to filter the dataset to see which countries have the max life expectancy\n",
        "health[health[\"life_expectancy\"] == 89]"
      ],
      "metadata": {
        "id": "AmmIB4mpsLPL"
      },
      "execution_count": null,
      "outputs": []
    },
    {
      "cell_type": "code",
      "source": [
        "#To filter for countries with min life expectancy\n",
        "health[health[\"life_expectancy\"] == 36.3]"
      ],
      "metadata": {
        "id": "pTnvCO4jtG8R"
      },
      "execution_count": null,
      "outputs": []
    },
    {
      "cell_type": "markdown",
      "source": [
        "Exploring Correlations"
      ],
      "metadata": {
        "id": "dDXGK2_lsitN"
      }
    },
    {
      "cell_type": "code",
      "source": [
        "#Calculating the correlation between the life expectancy and infant deaths\n",
        "health[\"life_expectancy\"].corr(health[\"infant_deaths\"])"
      ],
      "metadata": {
        "id": "lH8k5mpwQAgh"
      },
      "execution_count": null,
      "outputs": []
    },
    {
      "cell_type": "code",
      "source": [
        "#Calculating the correlation between life expectancy and adult mortality\n",
        "health[\"life_expectancy\"].corr(health[\"adult_mortality\"])\n",
        "health"
      ],
      "metadata": {
        "id": "9nRfBefDXoOC"
      },
      "execution_count": null,
      "outputs": []
    },
    {
      "cell_type": "markdown",
      "source": [
        "Data Visualisation"
      ],
      "metadata": {
        "id": "5QZrO3CHrC7Q"
      }
    },
    {
      "cell_type": "code",
      "source": [
        "#Plotting a graph to see life expectancy over the years\n",
        "health.plot(x=\"year\", y=\"life_expectancy\", style=\"o\")\n"
      ],
      "metadata": {
        "id": "Vrby-pvJQY8K"
      },
      "execution_count": null,
      "outputs": []
    },
    {
      "cell_type": "code",
      "source": [
        "#Plotting a graph to see the effect of infant deaths and adult mortality on life expectancy\n",
        "health.plot(x=\"life_expectancy\", y=\"infant_deaths\", style=\"o\")\n",
        "health.plot(x=\"life_expectancy\", y=\"adult_mortality\", style=\"o\")"
      ],
      "metadata": {
        "colab": {
          "base_uri": "https://localhost:8080/",
          "height": 561
        },
        "id": "1yKha8GVXhX5",
        "outputId": "13728dab-5701-494a-81df-50fbb6e06e97"
      },
      "execution_count": null,
      "outputs": [
        {
          "output_type": "execute_result",
          "data": {
            "text/plain": [
              "<matplotlib.axes._subplots.AxesSubplot at 0x7f9c8bfbec90>"
            ]
          },
          "metadata": {},
          "execution_count": 19
        },
        {
          "output_type": "display_data",
          "data": {
            "text/plain": [
              "<Figure size 432x288 with 1 Axes>"
            ],
            "image/png": "[encoded data removed]"
          },
          "metadata": {
            "needs_background": "light"
          }
        },
        {
          "output_type": "display_data",
          "data": {
            "text/plain": [
              "<Figure size 432x288 with 1 Axes>"
            ],
            "image/png": "[encoded data removed]"
          },
          "metadata": {
            "needs_background": "light"
          }
        }
      ]
    },
    {
      "cell_type": "code",
      "source": [
        ""
      ],
      "metadata": {
        "id": "lMqosnIwq_BG"
      },
      "execution_count": null,
      "outputs": []
    }
  ]
}